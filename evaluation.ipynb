{
 "cells": [
  {
   "cell_type": "code",
   "execution_count": 14,
   "id": "49d8d793",
   "metadata": {},
   "outputs": [],
   "source": [
    "from ultralytics import YOLO"
   ]
  },
  {
   "cell_type": "code",
   "execution_count": 15,
   "id": "aa6a90fa",
   "metadata": {},
   "outputs": [],
   "source": [
    "model = YOLO(\"training_logs/weights/best.pt\")"
   ]
  },
  {
   "cell_type": "code",
   "execution_count": 16,
   "id": "75866852",
   "metadata": {},
   "outputs": [],
   "source": [
    "validation_samples = [\n",
    "    \"data/OSCD/coco_carton/oneclass_carton/images/val2017/net (27).jpg\",\n",
    "    \"data/OSCD/coco_carton/oneclass_carton/images/val2017/net (42).jpg\",\n",
    "    \"data/OSCD/coco_carton/oneclass_carton/images/val2017/net (46).jpg\",\n",
    "    \"data/OSCD/coco_carton/oneclass_carton/images/val2017/net (84).jpg\",\n",
    "    \"data/OSCD/coco_carton/oneclass_carton/images/val2017/net (92).jpg\"\n",
    "]"
   ]
  },
  {
   "cell_type": "code",
   "execution_count": 19,
   "id": "a0b6dab2",
   "metadata": {},
   "outputs": [
    {
     "name": "stdout",
     "output_type": "stream",
     "text": [
      "\n",
      "0: 640x640 20 class_0s, 2.5ms\n",
      "1: 640x640 22 class_0s, 2.5ms\n",
      "2: 640x640 8 class_0s, 2.5ms\n",
      "3: 640x640 30 class_0s, 2.5ms\n",
      "4: 640x640 4 class_0s, 2.5ms\n",
      "Speed: 2.7ms preprocess, 2.5ms inference, 0.9ms postprocess per image at shape (1, 3, 640, 640)\n",
      "Results saved to \u001b[1mvalidation/val1\u001b[0m\n"
     ]
    }
   ],
   "source": [
    "results = model.predict(\n",
    "    source=validation_samples,\n",
    "    conf=0.50,\n",
    "    save=True,\n",
    "    project=\"validation\",\n",
    "    name=\"val1\",\n",
    "    show_labels=False,\n",
    "    exist_ok=True\n",
    ")"
   ]
  }
 ],
 "metadata": {
  "kernelspec": {
   "display_name": ".venv",
   "language": "python",
   "name": "python3"
  },
  "language_info": {
   "codemirror_mode": {
    "name": "ipython",
    "version": 3
   },
   "file_extension": ".py",
   "mimetype": "text/x-python",
   "name": "python",
   "nbconvert_exporter": "python",
   "pygments_lexer": "ipython3",
   "version": "3.12.10"
  }
 },
 "nbformat": 4,
 "nbformat_minor": 5
}
