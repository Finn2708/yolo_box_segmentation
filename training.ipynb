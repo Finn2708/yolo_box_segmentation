{
 "cells": [
  {
   "cell_type": "code",
   "execution_count": null,
   "metadata": {},
   "outputs": [],
   "source": [
    "import shutil\n",
    "from pathlib import Path\n",
    "from ultralytics import YOLO\n",
    "from ultralytics.data.converter import convert_coco"
   ]
  },
  {
   "cell_type": "code",
   "execution_count": null,
   "metadata": {},
   "outputs": [],
   "source": [
    "WORKSPACE = Path(\".\").parent\n",
    "\n",
    "COCO_DATASET_ROOT = WORKSPACE / \"data\" / \"OSCD\" / \"coco_carton\" / \"oneclass_carton\"\n",
    "COCO_DATA = COCO_DATASET_ROOT / \"images\"\n",
    "COCO_LABELS = COCO_DATASET_ROOT / \"annotations\"\n",
    "\n",
    "YOLO_DATASET_ROOT = WORKSPACE / \"yolo\""
   ]
  },
  {
   "cell_type": "code",
   "execution_count": null,
   "metadata": {},
   "outputs": [],
   "source": [
    "# # Clean YOLO dataset root\n",
    "# if YOLO_DATASET_ROOT.exists():\n",
    "#     shutil.rmtree(YOLO_DATASET_ROOT)"
   ]
  },
  {
   "cell_type": "code",
   "execution_count": null,
   "metadata": {},
   "outputs": [],
   "source": [
    "# Prepare the labels\n",
    "if not YOLO_DATASET_ROOT.exists():\n",
    "    convert_coco(\n",
    "        labels_dir=COCO_LABELS,\n",
    "        save_dir=YOLO_DATASET_ROOT,\n",
    "        use_segments=True\n",
    "    )"
   ]
  },
  {
   "cell_type": "code",
   "execution_count": null,
   "metadata": {},
   "outputs": [],
   "source": [
    "# Move the images to the YOLO dir\n",
    "if not YOLO_DATASET_ROOT.exists():\n",
    "    for coco_img_path in COCO_DATA.rglob(\"*.jpg\"):\n",
    "        yolo_img_path = YOLO_DATASET_ROOT / \"images\" / coco_img_path.parent.name / coco_img_path.name\n",
    "        yolo_img_path.parent.mkdir(parents=True, exist_ok=True)\n",
    "        shutil.copy(coco_img_path, yolo_img_path)"
   ]
  },
  {
   "cell_type": "code",
   "execution_count": null,
   "metadata": {},
   "outputs": [],
   "source": [
    "# Run the training\n",
    "model = YOLO(\"yolo11n-seg.pt\")\n",
    "results = model.train(cfg=\"yolo-training.yaml\")"
   ]
  }
 ],
 "metadata": {
  "kernelspec": {
   "display_name": ".venv",
   "language": "python",
   "name": "python3"
  },
  "language_info": {
   "codemirror_mode": {
    "name": "ipython",
    "version": 3
   },
   "file_extension": ".py",
   "mimetype": "text/x-python",
   "name": "python",
   "nbconvert_exporter": "python",
   "pygments_lexer": "ipython3",
   "version": "3.12.10"
  }
 },
 "nbformat": 4,
 "nbformat_minor": 2
}
